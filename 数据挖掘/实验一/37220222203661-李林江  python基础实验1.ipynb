{
 "cells": [
  {
   "cell_type": "markdown",
   "metadata": {},
   "source": [
    "# python基础知识练习1\n"
   ]
  },
  {
   "cell_type": "markdown",
   "metadata": {},
   "source": [
    "### 注：\n",
    "* 代码下方的运行结果为同学们最终需要实现的结果(第三题解释题除外）\n",
    "* 所有题目的方法不止一种，同学们可以尽情发挥"
   ]
  },
  {
   "cell_type": "markdown",
   "metadata": {},
   "source": [
    "### 变量赋值和基本运算符使用"
   ]
  },
  {
   "cell_type": "markdown",
   "metadata": {},
   "source": [
    "#### 1.交换a,b两个变量的值并输出"
   ]
  },
  {
   "cell_type": "code",
   "execution_count": 3,
   "metadata": {
    "tags": []
   },
   "outputs": [
    {
     "name": "stdout",
     "output_type": "stream",
     "text": [
      "6 hello\n"
     ]
    }
   ],
   "source": [
    "a=\"hello\"\n",
    "b=6\n",
    "#在下方输入你的代码\n",
    "i=a\n",
    "a=b\n",
    "b=i\n",
    "print(a,b)\n",
    "\n"
   ]
  },
  {
   "cell_type": "markdown",
   "metadata": {},
   "source": [
    "#### 2.计算1到50的和"
   ]
  },
  {
   "cell_type": "code",
   "execution_count": 4,
   "metadata": {
    "tags": []
   },
   "outputs": [
    {
     "name": "stdout",
     "output_type": "stream",
     "text": [
      "1275\n"
     ]
    }
   ],
   "source": [
    "#your code\n",
    "sum=0\n",
    "for num in range(1,51):\n",
    "    sum+=num\n",
    "print(sum)"
   ]
  },
  {
   "cell_type": "markdown",
   "metadata": {},
   "source": [
    "#### 3.请解释为和下述代码报错"
   ]
  },
  {
   "cell_type": "code",
   "execution_count": 5,
   "metadata": {},
   "outputs": [
    {
     "name": "stdout",
     "output_type": "stream",
     "text": [
      "[1, 2, 3, 4]\n"
     ]
    },
    {
     "ename": "TypeError",
     "evalue": "'list' object is not callable",
     "output_type": "error",
     "traceback": [
      "\u001b[1;31m---------------------------------------------------------------------------\u001b[0m",
      "\u001b[1;31mTypeError\u001b[0m                                 Traceback (most recent call last)",
      "Cell \u001b[1;32mIn[5], line 3\u001b[0m\n\u001b[0;32m      1\u001b[0m \u001b[38;5;28mlist\u001b[39m\u001b[38;5;241m=\u001b[39m[\u001b[38;5;241m1\u001b[39m,\u001b[38;5;241m2\u001b[39m,\u001b[38;5;241m3\u001b[39m,\u001b[38;5;241m4\u001b[39m]\n\u001b[0;32m      2\u001b[0m \u001b[38;5;28mprint\u001b[39m(\u001b[38;5;28mlist\u001b[39m)\n\u001b[1;32m----> 3\u001b[0m a\u001b[38;5;241m=\u001b[39m\u001b[38;5;28;43mlist\u001b[39;49m\u001b[43m(\u001b[49m\u001b[43m[\u001b[49m\u001b[38;5;241;43m5\u001b[39;49m\u001b[43m,\u001b[49m\u001b[38;5;241;43m6\u001b[39;49m\u001b[43m,\u001b[49m\u001b[38;5;241;43m7\u001b[39;49m\u001b[43m]\u001b[49m\u001b[43m)\u001b[49m\n",
      "\u001b[1;31mTypeError\u001b[0m: 'list' object is not callable"
     ]
    }
   ],
   "source": [
    "list=[1,2,3,4]\n",
    "print(list)\n",
    "a=list([5,6,7])"
   ]
  },
  {
   "cell_type": "markdown",
   "metadata": {},
   "source": [
    "出错的原因：\n",
    "list()是python的一个内置函数，而第一行语句中定义的变量名与内置函数的名称冲突。\n",
    "解决办法：将变量名list替换为my_list\n"
   ]
  },
  {
   "cell_type": "markdown",
   "metadata": {},
   "source": [
    "#### 4.给定一个Python列表,计算列表中的每个项的平方"
   ]
  },
  {
   "cell_type": "code",
   "execution_count": 8,
   "metadata": {
    "tags": []
   },
   "outputs": [
    {
     "name": "stdout",
     "output_type": "stream",
     "text": [
      "[1, 4, 9, 16, 25, 36, 49]\n"
     ]
    }
   ],
   "source": [
    "li=[1, 2, 3, 4, 5, 6, 7]\n",
    "\n",
    "#your code\n",
    "square_li=[]\n",
    "for i in li:\n",
    "    square_li.append(i**2)\n",
    "print(square_li)\n",
    "\n"
   ]
  },
  {
   "cell_type": "markdown",
   "metadata": {},
   "source": [
    "### 字符串处理及规范化输出"
   ]
  },
  {
   "cell_type": "markdown",
   "metadata": {},
   "source": [
    "#### 5.只显示偶数索引号处出现的字符"
   ]
  },
  {
   "cell_type": "code",
   "execution_count": 13,
   "metadata": {
    "tags": []
   },
   "outputs": [
    {
     "name": "stdout",
     "output_type": "stream",
     "text": [
      "frteecs"
     ]
    }
   ],
   "source": [
    "a='first exercise'\n",
    "#your code\n",
    "index=-1\n",
    "for letter in a:\n",
    "    index+=1\n",
    "    if index%2==0:\n",
    "        print(letter,end='')\n",
    "    else:\n",
    "        continue\n"
   ]
  },
  {
   "cell_type": "markdown",
   "metadata": {},
   "source": [
    "#### 6.请根据给定条件，利用format语句，符合逻辑地填写Today is --，tomorrow is --"
   ]
  },
  {
   "cell_type": "code",
   "execution_count": 14,
   "metadata": {
    "tags": []
   },
   "outputs": [
    {
     "name": "stdout",
     "output_type": "stream",
     "text": [
      "Today is Monday, tomorrow is Tuesday\n"
     ]
    }
   ],
   "source": [
    "a=\"Monday\"\n",
    "b=\"Tuesday\"\n",
    "#your code\n",
    "\n",
    "print(\"Today is {}, tomorrow is {}\".format(a,b))"
   ]
  },
  {
   "cell_type": "markdown",
   "metadata": {},
   "source": [
    "#### 7.输出组成给定字符串s的所有单词 "
   ]
  },
  {
   "cell_type": "code",
   "execution_count": 15,
   "metadata": {
    "tags": []
   },
   "outputs": [
    {
     "name": "stdout",
     "output_type": "stream",
     "text": [
      "['python', 'is', 'useful']\n"
     ]
    }
   ],
   "source": [
    "s=\"python is useful\"\n",
    "#your code\n",
    "words=s.split()\n",
    "print(words)\n"
   ]
  },
  {
   "cell_type": "markdown",
   "metadata": {},
   "source": [
    "#### 8.输出组成给定字符串s的所有字符（包括空格）"
   ]
  },
  {
   "cell_type": "code",
   "execution_count": 68,
   "metadata": {
    "tags": []
   },
   "outputs": [
    {
     "name": "stdout",
     "output_type": "stream",
     "text": [
      "['p', 'y', 't', 'h', 'o', 'n', ' ', 'i', 's', ' ', 'u', 's', 'e', 'f', 'u', 'l']"
     ]
    }
   ],
   "source": [
    "s=\"python is useful\"\n",
    "list=[] \n",
    "#your code\n",
    "list\n",
    "for letter in s:\n",
    "    list.append(letter)\n",
    "print(list)\n",
    "\n",
    "\n"
   ]
  },
  {
   "cell_type": "markdown",
   "metadata": {},
   "source": [
    "### Python控制流语法（if/else/for/while等）"
   ]
  },
  {
   "cell_type": "markdown",
   "metadata": {},
   "source": [
    "#### 9.给定一个数字列表，仅打印那些可被5整除的数字"
   ]
  },
  {
   "cell_type": "code",
   "execution_count": 18,
   "metadata": {
    "tags": []
   },
   "outputs": [
    {
     "name": "stdout",
     "output_type": "stream",
     "text": [
      "10\n",
      "20\n",
      "55\n"
     ]
    }
   ],
   "source": [
    "li=[10,20,33,46,55]\n",
    "#your code\n",
    "for i in li:\n",
    "    if i%5==0:\n",
    "        print(i)\n"
   ]
  },
  {
   "cell_type": "markdown",
   "metadata": {},
   "source": [
    "#### 10.打印如下所示的带有星号的半金字塔图案"
   ]
  },
  {
   "cell_type": "code",
   "execution_count": 29,
   "metadata": {
    "tags": []
   },
   "outputs": [
    {
     "name": "stdout",
     "output_type": "stream",
     "text": [
      "* * * * * \n",
      "\n",
      "* * * * \n",
      "\n",
      "* * * \n",
      "\n",
      "* * \n",
      "\n",
      "* \n",
      "\n"
     ]
    }
   ],
   "source": [
    "#your code\n",
    "a=5\n",
    "while a>0:\n",
    "    print(a*'* ')\n",
    "    print()\n",
    "    a-=1\n",
    "\n"
   ]
  },
  {
   "cell_type": "markdown",
   "metadata": {},
   "source": [
    "#### 11.给定一个列表，显示可被5整除的数字，如果发现大于150的数字，则停止"
   ]
  },
  {
   "cell_type": "code",
   "execution_count": 31,
   "metadata": {
    "tags": []
   },
   "outputs": [
    {
     "name": "stdout",
     "output_type": "stream",
     "text": [
      "15\n",
      "55\n",
      "75\n",
      "150\n"
     ]
    }
   ],
   "source": [
    "li=[12, 15, 32, 42, 55, 75, 122, 132, 150, 180, 200]\n",
    "\n",
    "#your code\n",
    "for i in li:\n",
    "    if i%5==0 and i<=150:\n",
    "        print(i)\n"
   ]
  },
  {
   "cell_type": "markdown",
   "metadata": {},
   "source": [
    "#### 12.创建斐波那契数列(从第三项开始，后一项是前两项的和），形如下列结果，20位即可"
   ]
  },
  {
   "cell_type": "code",
   "execution_count": 69,
   "metadata": {
    "tags": []
   },
   "outputs": [
    {
     "name": "stdout",
     "output_type": "stream",
     "text": [
      "0 1 1 2 3 5 8 13 21 34 55 89 144 233 377 610 987 1597 2584 4181 "
     ]
    }
   ],
   "source": [
    "#your code\n",
    "list=[0,1]\n",
    "a=3\n",
    "while a<=20:\n",
    "    list.append(list[-1]+list[-2])\n",
    "    a+=1\n",
    "for i in list:\n",
    "    print(i,end=' ')    \n",
    "\n"
   ]
  },
  {
   "cell_type": "markdown",
   "metadata": {},
   "source": [
    "### 数据结构：列表、元组、集合、字典的区分和使用"
   ]
  },
  {
   "cell_type": "markdown",
   "metadata": {},
   "source": [
    "#### 13.判断列表的第一个和最后一个数字是否相同"
   ]
  },
  {
   "cell_type": "code",
   "execution_count": 70,
   "metadata": {
    "tags": []
   },
   "outputs": [
    {
     "name": "stdout",
     "output_type": "stream",
     "text": [
      "True\n"
     ]
    }
   ],
   "source": [
    "li=[10,20,30,40,10]\n",
    "#your code\n",
    "if li[0]==li[len(li)-1]:\n",
    "    print(True)\n",
    "else:\n",
    "    print(False)\n"
   ]
  },
  {
   "cell_type": "markdown",
   "metadata": {},
   "source": [
    "#### 14.将字符串中的第三个字符改为a"
   ]
  },
  {
   "cell_type": "code",
   "execution_count": 71,
   "metadata": {
    "tags": []
   },
   "outputs": [
    {
     "name": "stdout",
     "output_type": "stream",
     "text": [
      "phane\n"
     ]
    }
   ],
   "source": [
    "s=\"phone\"\n",
    "#your code\n",
    "s_replace=s.replace(s[2],'a')\n",
    "print(s_replace)\n"
   ]
  },
  {
   "cell_type": "markdown",
   "metadata": {},
   "source": [
    "#### 15.检查字典中是否存在值200"
   ]
  },
  {
   "cell_type": "code",
   "execution_count": 72,
   "metadata": {},
   "outputs": [
    {
     "name": "stdout",
     "output_type": "stream",
     "text": [
      "True\n"
     ]
    }
   ],
   "source": [
    "Dict = {'a': 100, 'b': 200, 'c': 300}\n",
    "#your code\n",
    "if_have=False\n",
    "for i in Dict.values():\n",
    "    if i==200:\n",
    "        if_have=True\n",
    "        break\n",
    "print(if_have)\n",
    "         \n",
    "\n"
   ]
  },
  {
   "cell_type": "markdown",
   "metadata": {},
   "source": [
    "#### 16.从以下元组访问值15"
   ]
  },
  {
   "cell_type": "code",
   "execution_count": 73,
   "metadata": {},
   "outputs": [
    {
     "name": "stdout",
     "output_type": "stream",
     "text": [
      "15\n"
     ]
    }
   ],
   "source": [
    "t = (\"Apple\", [10, 20, 30], (5, 15, 25))\n",
    "#your code\n",
    "print(t[2][1])\n",
    "\n"
   ]
  },
  {
   "cell_type": "markdown",
   "metadata": {},
   "source": [
    "#### 17.将s1,s2的元素合并至s1中,并按字典序输出s1"
   ]
  },
  {
   "cell_type": "code",
   "execution_count": 77,
   "metadata": {},
   "outputs": [
    {
     "name": "stdout",
     "output_type": "stream",
     "text": [
      "['bird', 'cat', 'Chinese', 'dog', 'English', 'math']\n"
     ]
    }
   ],
   "source": [
    "s1 = {\"cat\", \"dog\", \"bird\"}\n",
    "s2= [\"math\", \"English\", \"Chinese\"]\n",
    "#your code\n",
    "for i in s2:\n",
    "    s1.add(i)   \n",
    "print(sorted(s1,key=str.lower))\n"
   ]
  },
  {
   "cell_type": "markdown",
   "metadata": {},
   "source": [
    "### 函数"
   ]
  },
  {
   "cell_type": "markdown",
   "metadata": {},
   "source": [
    "#### 18.创建函数，实现求输入值的绝对值并调用"
   ]
  },
  {
   "cell_type": "code",
   "execution_count": 75,
   "metadata": {},
   "outputs": [
    {
     "name": "stdout",
     "output_type": "stream",
     "text": [
      "5\n"
     ]
    }
   ],
   "source": [
    "def f1(x):\n",
    "    #your code\n",
    "    if x>=0:\n",
    "        return x\n",
    "    else:\n",
    "        return -x\n",
    "\n",
    "    \n",
    "print(f1(-5))"
   ]
  },
  {
   "cell_type": "markdown",
   "metadata": {},
   "source": [
    "#### 19.创建函数，使其能够计算输入值的乘积和商，并输出，创建好后进行调用"
   ]
  },
  {
   "cell_type": "code",
   "execution_count": 76,
   "metadata": {
    "tags": []
   },
   "outputs": [
    {
     "name": "stdout",
     "output_type": "stream",
     "text": [
      "(27, 3.0)\n"
     ]
    }
   ],
   "source": [
    "def f2(x,y):\n",
    "    #your code\n",
    "    result=[0,0]\n",
    "    result[0]=x*y\n",
    "    result[1]=x/y\n",
    "    result_tuple=tuple(result)\n",
    "\n",
    "    return result_tuple\n",
    "    \n",
    "\n",
    "print(f2(9,3))"
   ]
  },
  {
   "cell_type": "markdown",
   "metadata": {
    "tags": []
   },
   "source": [
    "### 20.附加题-猜数小游戏（有余力的同学可以选做）\n",
    "需要实现：\n",
    "* 能够让用户输入猜测的值\n",
    "* 比较用户输入值与随机生成的数的大小并打印出两者的大小关系，即“输入大了”、“输入小了”或“恭喜你输入正确”\n",
    "* 注：同学们的结果可能与下方结果不完全一致，因为生成的随机数不相同，但形式一致"
   ]
  },
  {
   "cell_type": "code",
   "execution_count": 2,
   "metadata": {
    "tags": []
   },
   "outputs": [
    {
     "name": "stdout",
     "output_type": "stream",
     "text": [
      "输入小了\n",
      "输入大了\n",
      "输入小了\n",
      "输入小了\n",
      "输入小了\n",
      "恭喜你输入正确\n"
     ]
    }
   ],
   "source": [
    "import random\n",
    "r=random.randint(1,200)\n",
    "\n",
    "#your code\n",
    "while True:\n",
    "    guess=int (input(\"请输入一个1到200之间的数字:\"))\n",
    "    \n",
    "    if guess<r:\n",
    "        print(\"输入小了\")\n",
    "    elif guess>r:\n",
    "        print(\"输入大了\")\n",
    "    else:\n",
    "        print(\"恭喜你输入正确\")\n",
    "        break\n"
   ]
  },
  {
   "cell_type": "code",
   "execution_count": null,
   "metadata": {},
   "outputs": [],
   "source": []
  }
 ],
 "metadata": {
  "kernelspec": {
   "display_name": "Python 3 (ipykernel)",
   "language": "python",
   "name": "python3"
  },
  "language_info": {
   "codemirror_mode": {
    "name": "ipython",
    "version": 3
   },
   "file_extension": ".py",
   "mimetype": "text/x-python",
   "name": "python",
   "nbconvert_exporter": "python",
   "pygments_lexer": "ipython3",
   "version": "3.10.8"
  },
  "toc": {
   "base_numbering": 1,
   "nav_menu": {},
   "number_sections": false,
   "sideBar": true,
   "skip_h1_title": false,
   "title_cell": "Table of Contents",
   "title_sidebar": "Contents",
   "toc_cell": false,
   "toc_position": {},
   "toc_section_display": true,
   "toc_window_display": false
  }
 },
 "nbformat": 4,
 "nbformat_minor": 4
}
