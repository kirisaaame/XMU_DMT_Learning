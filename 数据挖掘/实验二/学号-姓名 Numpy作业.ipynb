{
 "cells": [
  {
   "cell_type": "markdown",
   "metadata": {},
   "source": [
    "## Numpy作业"
   ]
  },
  {
   "cell_type": "code",
   "execution_count": 6,
   "metadata": {
    "tags": []
   },
   "outputs": [],
   "source": [
    "import numpy as np"
   ]
  },
  {
   "cell_type": "markdown",
   "metadata": {
    "tags": []
   },
   "source": [
    "#### 例题以及答案格式"
   ]
  },
  {
   "cell_type": "code",
   "execution_count": 7,
   "metadata": {
    "tags": []
   },
   "outputs": [
    {
     "data": {
      "text/plain": [
       "array([[ True,  True,  True],\n",
       "       [ True,  True,  True],\n",
       "       [ True,  True,  True]])"
      ]
     },
     "execution_count": 7,
     "metadata": {},
     "output_type": "execute_result"
    }
   ],
   "source": [
    "# Q.创建一个3×3的所有值为True的numpy数组\n",
    "# A:\n",
    "out = np.ones((3,3),dtype = bool)\n",
    "out   #运行之后可以直接看到结果"
   ]
  },
  {
   "cell_type": "markdown",
   "metadata": {},
   "source": [
    "#### 作业共16道，Q为题目序号，A为答案序号，请阅读题目后在A下作答，不要删除题目中的np.random.seed"
   ]
  },
  {
   "cell_type": "markdown",
   "metadata": {
    "tags": []
   },
   "source": [
    "##### Q1.将a1转换为2行的2维数组 *注：答案中只明确是2行，系统自动确定列数"
   ]
  },
  {
   "cell_type": "code",
   "execution_count": 8,
   "metadata": {
    "tags": []
   },
   "outputs": [
    {
     "name": "stdout",
     "output_type": "stream",
     "text": [
      "[0 1 2 3 4 5 6 7 8 9]\n",
      "[[0 1 2 3 4]\n",
      " [5 6 7 8 9]]\n"
     ]
    }
   ],
   "source": [
    "# A1:\n",
    "a1 = np.arange(10)\n",
    "print(a1)\n"
   ]
  },
  {
   "cell_type": "markdown",
   "metadata": {
    "tags": []
   },
   "source": [
    "##### Q2.创建一个10*10的随机数组，并找到这个数组中的最大值、最小值和平均值"
   ]
  },
  {
   "cell_type": "code",
   "execution_count": 9,
   "metadata": {
    "tags": []
   },
   "outputs": [
    {
     "name": "stdout",
     "output_type": "stream",
     "text": [
      "[[0.4359949  0.02592623 0.54966248 0.43532239 0.4203678  0.33033482\n",
      "  0.20464863 0.61927097 0.29965467 0.26682728]\n",
      " [0.62113383 0.52914209 0.13457995 0.51357812 0.18443987 0.78533515\n",
      "  0.85397529 0.49423684 0.84656149 0.07964548]\n",
      " [0.50524609 0.0652865  0.42812233 0.09653092 0.12715997 0.59674531\n",
      "  0.226012   0.10694568 0.22030621 0.34982629]\n",
      " [0.46778748 0.20174323 0.64040673 0.48306984 0.50523672 0.38689265\n",
      "  0.79363745 0.58000418 0.1622986  0.70075235]\n",
      " [0.96455108 0.50000836 0.88952006 0.34161365 0.56714413 0.42754596\n",
      "  0.43674726 0.77655918 0.53560417 0.95374223]\n",
      " [0.54420816 0.08209492 0.3663424  0.8508505  0.40627504 0.02720237\n",
      "  0.24717724 0.06714437 0.99385201 0.97058031]\n",
      " [0.80025835 0.60181712 0.76495986 0.16922545 0.29302323 0.52406688\n",
      "  0.35662428 0.04567897 0.98315345 0.44135492]\n",
      " [0.50400044 0.32354132 0.25974475 0.38688989 0.8320169  0.73674706\n",
      "  0.37921057 0.01301734 0.79740494 0.2693888 ]\n",
      " [0.58268489 0.02555094 0.66220202 0.38752343 0.4970738  0.41490584\n",
      "  0.3508719  0.55097791 0.97291069 0.11277622]\n",
      " [0.31325853 0.04179771 0.73839976 0.65751239 0.21463575 0.41675344\n",
      "  0.64384193 0.66148133 0.17047713 0.88165224]]\n",
      "0.9938520114212729\n",
      "0.01301733669455063\n",
      "0.4600282453521938\n"
     ]
    }
   ],
   "source": [
    "# A2:\n",
    "np.random.seed(2)\n"
   ]
  },
  {
   "cell_type": "markdown",
   "metadata": {
    "tags": []
   },
   "source": [
    "##### Q3.创建一个随机5*5矩阵并对它进行标准化（减去平均值再除以标准差）"
   ]
  },
  {
   "cell_type": "code",
   "execution_count": 11,
   "metadata": {
    "tags": []
   },
   "outputs": [
    {
     "name": "stdout",
     "output_type": "stream",
     "text": [
      "[[0.5507979  0.70814782 0.29090474 0.51082761 0.89294695]\n",
      " [0.89629309 0.12558531 0.20724288 0.0514672  0.44080984]\n",
      " [0.02987621 0.45683322 0.64914405 0.27848728 0.6762549 ]\n",
      " [0.59086282 0.02398188 0.55885409 0.25925245 0.4151012 ]\n",
      " [0.28352508 0.69313792 0.44045372 0.15686774 0.54464902]]\n",
      "[[ 0.48908932  1.12246011 -0.55704238  0.32819938  1.86632049]\n",
      " [ 1.87978948 -1.22249233 -0.89380123 -1.52083531  0.04636126]\n",
      " [-1.60774419  0.11085918  0.8849559  -0.60702559  0.99408353]\n",
      " [ 0.65036011 -1.63147026  0.52151738 -0.68445037 -0.05712214]\n",
      " [-0.58674725  1.06204168  0.04492777 -1.09657313  0.4643386 ]]\n"
     ]
    }
   ],
   "source": [
    "#A3：\n",
    "np.random.seed(3)\n"
   ]
  },
  {
   "cell_type": "markdown",
   "metadata": {
    "tags": []
   },
   "source": [
    "##### Q4.删除a1中所包含的a2的元素"
   ]
  },
  {
   "cell_type": "code",
   "execution_count": 14,
   "metadata": {
    "tags": []
   },
   "outputs": [
    {
     "name": "stdout",
     "output_type": "stream",
     "text": [
      "[0 1 2 3 4 5 6 7 8 9]\n",
      "[1 5 7 4 3]\n",
      "[0, 2, 6, 8, 9]\n"
     ]
    }
   ],
   "source": [
    "# A4：\n",
    "a1 = np.arange(10)\n",
    "print(a1)\n",
    "a2 = np.array([1,5,7,4,3])\n",
    "print(a2)\n"
   ]
  },
  {
   "cell_type": "markdown",
   "metadata": {
    "tags": []
   },
   "source": [
    "##### Q5.交换数组a3中的第一行和第3行，第二列和最后一列"
   ]
  },
  {
   "cell_type": "code",
   "execution_count": 15,
   "metadata": {
    "tags": []
   },
   "outputs": [
    {
     "name": "stdout",
     "output_type": "stream",
     "text": [
      "[[ 0  1  2  3  4]\n",
      " [ 5  6  7  8  9]\n",
      " [10 11 12 13 14]\n",
      " [15 16 17 18 19]]\n",
      "[[10 11 12 13 14]\n",
      " [ 5  6  7  8  9]\n",
      " [ 0  1  2  3  4]\n",
      " [15 16 17 18 19]]\n",
      "[[10 14 12 13 11]\n",
      " [ 5  9  7  8  6]\n",
      " [ 0  4  2  3  1]\n",
      " [15 19 17 18 16]]\n"
     ]
    }
   ],
   "source": [
    "# A5：\n",
    "a3 = np.arange(20).reshape(4,-1)\n",
    "print(a3)\n"
   ]
  },
  {
   "cell_type": "markdown",
   "metadata": {
    "tags": []
   },
   "source": [
    "##### Q6.(1)反转a3的行 （2）反转a3的列"
   ]
  },
  {
   "cell_type": "code",
   "execution_count": 16,
   "metadata": {
    "tags": []
   },
   "outputs": [
    {
     "name": "stdout",
     "output_type": "stream",
     "text": [
      "[[ 0  1  2  3  4]\n",
      " [ 5  6  7  8  9]\n",
      " [10 11 12 13 14]\n",
      " [15 16 17 18 19]]\n",
      "[[ 4  3  2  1  0]\n",
      " [ 9  8  7  6  5]\n",
      " [14 13 12 11 10]\n",
      " [19 18 17 16 15]]\n",
      "[[19 18 17 16 15]\n",
      " [14 13 12 11 10]\n",
      " [ 9  8  7  6  5]\n",
      " [ 4  3  2  1  0]]\n"
     ]
    }
   ],
   "source": [
    "# A6：\n",
    "a3 = np.arange(20).reshape(4,-1)\n",
    "print(a3)\n"
   ]
  },
  {
   "cell_type": "markdown",
   "metadata": {
    "tags": []
   },
   "source": [
    "##### Q7.在b1的周围加一个全部为0的边框"
   ]
  },
  {
   "cell_type": "code",
   "execution_count": 17,
   "metadata": {
    "tags": []
   },
   "outputs": [
    {
     "name": "stdout",
     "output_type": "stream",
     "text": [
      "[[0 1 2 3 4]\n",
      " [5 6 7 8 9]]\n",
      "[[0 0 0 0 0 0 0]\n",
      " [0 0 1 2 3 4 0]\n",
      " [0 5 6 7 8 9 0]\n",
      " [0 0 0 0 0 0 0]]\n"
     ]
    }
   ],
   "source": [
    "# A7：\n",
    "b1 = np.arange(10).reshape(2,-1)\n",
    "print(b1)\n"
   ]
  },
  {
   "cell_type": "markdown",
   "metadata": {
    "tags": []
   },
   "source": [
    "##### Q8.创建一个5*5的矩阵，值“1，2，3，4”在此矩阵对角线的正上方"
   ]
  },
  {
   "cell_type": "code",
   "execution_count": 18,
   "metadata": {
    "tags": []
   },
   "outputs": [
    {
     "name": "stdout",
     "output_type": "stream",
     "text": [
      "[[0 1 0 0 0]\n",
      " [0 0 2 0 0]\n",
      " [0 0 0 3 0]\n",
      " [0 0 0 0 4]\n",
      " [0 0 0 0 0]]\n"
     ]
    }
   ],
   "source": [
    "# A8：\n"
   ]
  },
  {
   "cell_type": "markdown",
   "metadata": {
    "tags": []
   },
   "source": [
    "##### Q9.从数组a3中提取7到16之间的所有元素，包括7和16"
   ]
  },
  {
   "cell_type": "code",
   "execution_count": 19,
   "metadata": {
    "tags": []
   },
   "outputs": [
    {
     "name": "stdout",
     "output_type": "stream",
     "text": [
      "[[ 0  1  2  3  4]\n",
      " [ 5  6  7  8  9]\n",
      " [10 11 12 13 14]\n",
      " [15 16 17 18 19]]\n",
      "[ 7  8  9 10 11 12 13 14 15 16]\n"
     ]
    }
   ],
   "source": [
    "# A9:\n",
    "a3 = np.arange(20).reshape(4,-1)\n",
    "print(a3)\n"
   ]
  },
  {
   "cell_type": "markdown",
   "metadata": {
    "tags": []
   },
   "source": [
    "##### Q10.创建一个4*6的二维数组，包含10~20之间的浮点数，并保留三位小数"
   ]
  },
  {
   "cell_type": "code",
   "execution_count": 22,
   "metadata": {
    "tags": []
   },
   "outputs": [
    {
     "name": "stdout",
     "output_type": "stream",
     "text": [
      "[[11.732 10.749 16.007 11.68  17.334 14.084]\n",
      " [15.279 19.376 15.217 11.082 11.582 15.452]\n",
      " [15.244 16.376 14.015 16.498 13.969 16.239]\n",
      " [17.674 11.79  13.756 15.025 16.867 12.537]]\n"
     ]
    }
   ],
   "source": [
    "#A10：\n",
    "np.random.seed(4)\n"
   ]
  },
  {
   "cell_type": "markdown",
   "metadata": {
    "tags": []
   },
   "source": [
    "##### Q11.获取a4中前五个最大的值"
   ]
  },
  {
   "cell_type": "code",
   "execution_count": 21,
   "metadata": {
    "tags": []
   },
   "outputs": [
    {
     "name": "stdout",
     "output_type": "stream",
     "text": [
      "[12.21993171 18.70732306 12.06719155 19.18610908 14.88411189 16.11743863\n",
      " 17.65907856 15.18417988 12.96800502 11.87721229 10.80741269 17.38440296\n",
      " 14.41309223 11.58309868 18.79937031 12.74086462 14.14235019 12.96079933\n",
      " 16.28787909 15.7983781  15.99929197 12.65819118 12.84685881 12.53588206\n",
      " 13.27563948 11.44164301 11.65612861 19.63930529 19.60226715 11.88414656\n",
      " 10.24306562 12.04555546 16.99843614 17.79514586 10.22933092 15.77662858\n",
      " 10.01642173 15.15472612 16.39795176 19.85624403 12.59097596 18.02496885\n",
      " 18.70483087 19.22749614 10.02214213 14.69488372 19.81468738 13.98944804\n",
      " 18.13732478 15.46456498]\n",
      "[19.85624402804189, 19.814687376060107, 19.639305290679417, 19.60226715285694, 19.227496139456697]\n"
     ]
    }
   ],
   "source": [
    "# A11：\n",
    "np.random.seed(5)\n",
    "a4 = np.random.uniform(10,20,50)\n",
    "print(a4)\n"
   ]
  },
  {
   "cell_type": "markdown",
   "metadata": {
    "tags": []
   },
   "source": [
    "##### Q12.计算b4和b5之间的欧式距离"
   ]
  },
  {
   "cell_type": "code",
   "execution_count": 23,
   "metadata": {
    "tags": []
   },
   "outputs": [
    {
     "name": "stdout",
     "output_type": "stream",
     "text": [
      "[1 2 3 4]\n",
      "[5 6 7 8]\n",
      "8.0\n"
     ]
    }
   ],
   "source": [
    "# A12:\n",
    "b4 = np.array([1,2,3,4])\n",
    "b5 = np.array([5,6,7,8])\n",
    "print(b4)\n",
    "print(b5)\n"
   ]
  },
  {
   "cell_type": "markdown",
   "metadata": {
    "tags": []
   },
   "source": [
    "##### Q13:找出a5中重复的元素并标记为True（如果元素第一次出现则标记为False） "
   ]
  },
  {
   "cell_type": "code",
   "execution_count": 24,
   "metadata": {
    "tags": []
   },
   "outputs": [
    {
     "name": "stdout",
     "output_type": "stream",
     "text": [
      "[2 1 3 4 2 2 0 1 1 3]\n",
      "[False, False, False, False, True, True, False, True, True, True]\n"
     ]
    }
   ],
   "source": [
    "# A13：\n",
    "np.random.seed(6)\n",
    "a5 = np.random.randint(0,5,10)\n",
    "print(a5)\n",
    "\n"
   ]
  },
  {
   "cell_type": "markdown",
   "metadata": {
    "tags": []
   },
   "source": [
    "##### Q14:给出下列A和B，求解2Ax = B"
   ]
  },
  {
   "cell_type": "code",
   "execution_count": 25,
   "metadata": {
    "tags": []
   },
   "outputs": [
    {
     "name": "stdout",
     "output_type": "stream",
     "text": [
      "[10.5  1.5 -2.5]\n"
     ]
    }
   ],
   "source": [
    "A = np.array([[1,2,3],[-1,-3,-9],[2,2,8]])\n",
    "B = np.array([12,15,8])\n",
    "# A14：\n"
   ]
  },
  {
   "cell_type": "markdown",
   "metadata": {},
   "source": [
    "##### Q15:对数组a7中各项目进行排名，数值越小排名越高，如果存在并列情况，在a7中位置越靠前则排名越高。\n",
    "##### 例：[1,3,4,5,4,1]——————排名为：[0,2,3,5,4,1]"
   ]
  },
  {
   "cell_type": "code",
   "execution_count": 26,
   "metadata": {
    "tags": []
   },
   "outputs": [
    {
     "name": "stdout",
     "output_type": "stream",
     "text": [
      "[4 5 2 2 3 1]\n",
      "[4, 5, 1, 2, 3, 0]\n"
     ]
    }
   ],
   "source": [
    "# A15:\n",
    "np.random.seed(8)\n",
    "a7 = np.random.randint(1,6,size = 6)\n",
    "print(a7)\n",
    "\n"
   ]
  },
  {
   "cell_type": "markdown",
   "metadata": {},
   "source": [
    "##### Q16:创建一个3*10的numpy数组Z\n",
    "##### 请回答print函数中的代码的功能"
   ]
  },
  {
   "cell_type": "code",
   "execution_count": null,
   "metadata": {
    "tags": []
   },
   "outputs": [],
   "source": [
    "Z = np.random.randint(0,3,(3,10))"
   ]
  },
  {
   "cell_type": "code",
   "execution_count": null,
   "metadata": {
    "tags": []
   },
   "outputs": [],
   "source": [
    "Z"
   ]
  },
  {
   "cell_type": "code",
   "execution_count": null,
   "metadata": {
    "tags": []
   },
   "outputs": [],
   "source": [
    "print((~Z.any(axis=0)).any())"
   ]
  },
  {
   "cell_type": "code",
   "execution_count": null,
   "metadata": {},
   "outputs": [],
   "source": [
    "# A16：\n"
   ]
  }
 ],
 "metadata": {
  "kernelspec": {
   "display_name": "Python 3 (ipykernel)",
   "language": "python",
   "name": "python3"
  },
  "language_info": {
   "codemirror_mode": {
    "name": "ipython",
    "version": 3
   },
   "file_extension": ".py",
   "mimetype": "text/x-python",
   "name": "python",
   "nbconvert_exporter": "python",
   "pygments_lexer": "ipython3",
   "version": "3.11.3"
  },
  "toc": {
   "base_numbering": 1,
   "nav_menu": {},
   "number_sections": false,
   "sideBar": true,
   "skip_h1_title": false,
   "title_cell": "Table of Contents",
   "title_sidebar": "Contents",
   "toc_cell": false,
   "toc_position": {},
   "toc_section_display": true,
   "toc_window_display": false
  }
 },
 "nbformat": 4,
 "nbformat_minor": 4
}
